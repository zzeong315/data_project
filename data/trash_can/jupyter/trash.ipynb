{
 "cells": [
  {
   "cell_type": "code",
   "execution_count": 3,
   "metadata": {},
   "outputs": [],
   "source": [
    "from IPython.core.display_functions import warnings\n",
    "import numpy as np\n",
    "import pandas as pd\n",
    "warnings.simplefilter('ignore')"
   ]
  },
  {
   "cell_type": "code",
   "execution_count": 4,
   "metadata": {},
   "outputs": [],
   "source": [
    "trash = pd.read_excel(\"../trash_can.xlsx\")"
   ]
  },
  {
   "cell_type": "code",
   "execution_count": 5,
   "metadata": {},
   "outputs": [
    {
     "data": {
      "text/html": [
       "<div>\n",
       "<style scoped>\n",
       "    .dataframe tbody tr th:only-of-type {\n",
       "        vertical-align: middle;\n",
       "    }\n",
       "\n",
       "    .dataframe tbody tr th {\n",
       "        vertical-align: top;\n",
       "    }\n",
       "\n",
       "    .dataframe thead th {\n",
       "        text-align: right;\n",
       "    }\n",
       "</style>\n",
       "<table border=\"1\" class=\"dataframe\">\n",
       "  <thead>\n",
       "    <tr style=\"text-align: right;\">\n",
       "      <th></th>\n",
       "      <th>index</th>\n",
       "      <th>자치구명</th>\n",
       "      <th>도로명</th>\n",
       "      <th>세부위치</th>\n",
       "      <th>설치 지점</th>\n",
       "      <th>종류</th>\n",
       "    </tr>\n",
       "  </thead>\n",
       "  <tbody>\n",
       "    <tr>\n",
       "      <th>0</th>\n",
       "      <td>1</td>\n",
       "      <td>종로구</td>\n",
       "      <td>사직로</td>\n",
       "      <td>경복궁역 4번출구</td>\n",
       "      <td>지하철역 입구</td>\n",
       "      <td>일반쓰레기</td>\n",
       "    </tr>\n",
       "    <tr>\n",
       "      <th>1</th>\n",
       "      <td>2</td>\n",
       "      <td>종로구</td>\n",
       "      <td>사직로</td>\n",
       "      <td>경복궁역 4번출구</td>\n",
       "      <td>지하철역 입구</td>\n",
       "      <td>재활용</td>\n",
       "    </tr>\n",
       "    <tr>\n",
       "      <th>2</th>\n",
       "      <td>3</td>\n",
       "      <td>종로구</td>\n",
       "      <td>자하문로</td>\n",
       "      <td>자하문로 28</td>\n",
       "      <td>도로(가로)변</td>\n",
       "      <td>일반쓰레기</td>\n",
       "    </tr>\n",
       "    <tr>\n",
       "      <th>3</th>\n",
       "      <td>4</td>\n",
       "      <td>종로구</td>\n",
       "      <td>자하문로</td>\n",
       "      <td>자하문로 28</td>\n",
       "      <td>도로(가로)변</td>\n",
       "      <td>재활용</td>\n",
       "    </tr>\n",
       "    <tr>\n",
       "      <th>4</th>\n",
       "      <td>5</td>\n",
       "      <td>종로구</td>\n",
       "      <td>자하문로</td>\n",
       "      <td>자하문로 44</td>\n",
       "      <td>도로(가로)변</td>\n",
       "      <td>일반쓰레기</td>\n",
       "    </tr>\n",
       "  </tbody>\n",
       "</table>\n",
       "</div>"
      ],
      "text/plain": [
       "   index 자치구명   도로명       세부위치     설치 지점     종류\n",
       "0      1  종로구   사직로  경복궁역 4번출구   지하철역 입구  일반쓰레기\n",
       "1      2  종로구   사직로  경복궁역 4번출구   지하철역 입구    재활용\n",
       "2      3  종로구  자하문로    자하문로 28   도로(가로)변  일반쓰레기\n",
       "3      4  종로구  자하문로    자하문로 28   도로(가로)변    재활용\n",
       "4      5  종로구  자하문로    자하문로 44   도로(가로)변  일반쓰레기"
      ]
     },
     "execution_count": 5,
     "metadata": {},
     "output_type": "execute_result"
    }
   ],
   "source": [
    "trash.head()"
   ]
  },
  {
   "cell_type": "code",
   "execution_count": 6,
   "metadata": {},
   "outputs": [
    {
     "data": {
      "text/plain": [
       "Index(['index', '자치구명', '도로명', '세부위치', '설치 지점', '종류'], dtype='object')"
      ]
     },
     "execution_count": 6,
     "metadata": {},
     "output_type": "execute_result"
    }
   ],
   "source": [
    "trash.columns"
   ]
  },
  {
   "cell_type": "code",
   "execution_count": 7,
   "metadata": {},
   "outputs": [],
   "source": [
    "trash.columns=['index','borough','road_name','location','point','category']"
   ]
  },
  {
   "cell_type": "code",
   "execution_count": 8,
   "metadata": {},
   "outputs": [
    {
     "data": {
      "text/plain": [
       "index          0\n",
       "borough        0\n",
       "road_name    232\n",
       "location       0\n",
       "point         32\n",
       "category       0\n",
       "dtype: int64"
      ]
     },
     "execution_count": 8,
     "metadata": {},
     "output_type": "execute_result"
    }
   ],
   "source": [
    "trash.isnull().sum()"
   ]
  },
  {
   "cell_type": "code",
   "execution_count": 9,
   "metadata": {},
   "outputs": [],
   "source": [
    "trash['road_name']=trash['road_name'].fillna('none')"
   ]
  },
  {
   "cell_type": "code",
   "execution_count": 10,
   "metadata": {},
   "outputs": [],
   "source": [
    "trash['point']=trash['point'].fillna('none')"
   ]
  },
  {
   "cell_type": "code",
   "execution_count": 11,
   "metadata": {},
   "outputs": [
    {
     "data": {
      "text/plain": [
       "index        0\n",
       "borough      0\n",
       "road_name    0\n",
       "location     0\n",
       "point        0\n",
       "category     0\n",
       "dtype: int64"
      ]
     },
     "execution_count": 11,
     "metadata": {},
     "output_type": "execute_result"
    }
   ],
   "source": [
    "trash.isnull().sum()"
   ]
  },
  {
   "cell_type": "code",
   "execution_count": 12,
   "metadata": {},
   "outputs": [
    {
     "data": {
      "text/html": [
       "<div>\n",
       "<style scoped>\n",
       "    .dataframe tbody tr th:only-of-type {\n",
       "        vertical-align: middle;\n",
       "    }\n",
       "\n",
       "    .dataframe tbody tr th {\n",
       "        vertical-align: top;\n",
       "    }\n",
       "\n",
       "    .dataframe thead th {\n",
       "        text-align: right;\n",
       "    }\n",
       "</style>\n",
       "<table border=\"1\" class=\"dataframe\">\n",
       "  <thead>\n",
       "    <tr style=\"text-align: right;\">\n",
       "      <th></th>\n",
       "      <th>index</th>\n",
       "      <th>borough</th>\n",
       "      <th>road_name</th>\n",
       "      <th>location</th>\n",
       "      <th>point</th>\n",
       "      <th>category</th>\n",
       "    </tr>\n",
       "  </thead>\n",
       "  <tbody>\n",
       "    <tr>\n",
       "      <th>0</th>\n",
       "      <td>1</td>\n",
       "      <td>종로구</td>\n",
       "      <td>사직로</td>\n",
       "      <td>경복궁역 4번출구</td>\n",
       "      <td>지하철역 입구</td>\n",
       "      <td>일반쓰레기</td>\n",
       "    </tr>\n",
       "    <tr>\n",
       "      <th>1</th>\n",
       "      <td>2</td>\n",
       "      <td>종로구</td>\n",
       "      <td>사직로</td>\n",
       "      <td>경복궁역 4번출구</td>\n",
       "      <td>지하철역 입구</td>\n",
       "      <td>재활용</td>\n",
       "    </tr>\n",
       "    <tr>\n",
       "      <th>2</th>\n",
       "      <td>3</td>\n",
       "      <td>종로구</td>\n",
       "      <td>자하문로</td>\n",
       "      <td>자하문로 28</td>\n",
       "      <td>도로(가로)변</td>\n",
       "      <td>일반쓰레기</td>\n",
       "    </tr>\n",
       "    <tr>\n",
       "      <th>3</th>\n",
       "      <td>4</td>\n",
       "      <td>종로구</td>\n",
       "      <td>자하문로</td>\n",
       "      <td>자하문로 28</td>\n",
       "      <td>도로(가로)변</td>\n",
       "      <td>재활용</td>\n",
       "    </tr>\n",
       "    <tr>\n",
       "      <th>4</th>\n",
       "      <td>5</td>\n",
       "      <td>종로구</td>\n",
       "      <td>자하문로</td>\n",
       "      <td>자하문로 44</td>\n",
       "      <td>도로(가로)변</td>\n",
       "      <td>일반쓰레기</td>\n",
       "    </tr>\n",
       "    <tr>\n",
       "      <th>...</th>\n",
       "      <td>...</td>\n",
       "      <td>...</td>\n",
       "      <td>...</td>\n",
       "      <td>...</td>\n",
       "      <td>...</td>\n",
       "      <td>...</td>\n",
       "    </tr>\n",
       "    <tr>\n",
       "      <th>5370</th>\n",
       "      <td>5371</td>\n",
       "      <td>도봉구</td>\n",
       "      <td>해등로</td>\n",
       "      <td>해등로3길 41</td>\n",
       "      <td>삼환빌라 앞 횡단보도</td>\n",
       "      <td>⑥ 횡단보도 입구</td>\n",
       "    </tr>\n",
       "    <tr>\n",
       "      <th>5371</th>\n",
       "      <td>5372</td>\n",
       "      <td>도봉구</td>\n",
       "      <td>해등로</td>\n",
       "      <td>해등로 103</td>\n",
       "      <td>창원초등학교 앞 횡단보도</td>\n",
       "      <td>⑥ 횡단보도 입구</td>\n",
       "    </tr>\n",
       "    <tr>\n",
       "      <th>5372</th>\n",
       "      <td>5373</td>\n",
       "      <td>도봉구</td>\n",
       "      <td>도봉산길</td>\n",
       "      <td>도봉산길 27</td>\n",
       "      <td>도봉고등학교 건너편 횡단보도</td>\n",
       "      <td>⑥ 횡단보도 입구</td>\n",
       "    </tr>\n",
       "    <tr>\n",
       "      <th>5373</th>\n",
       "      <td>5374</td>\n",
       "      <td>도봉구</td>\n",
       "      <td>도봉로</td>\n",
       "      <td>도봉동 620-23</td>\n",
       "      <td>신도봉사거리 도봉중학교방향 횡단보도</td>\n",
       "      <td>⑥ 횡단보도 입구</td>\n",
       "    </tr>\n",
       "    <tr>\n",
       "      <th>5374</th>\n",
       "      <td>5375</td>\n",
       "      <td>도봉구</td>\n",
       "      <td>해등로</td>\n",
       "      <td>해등로 32</td>\n",
       "      <td>창1동 서울가든아파트 버스정류장</td>\n",
       "      <td>① 정류장(버스, 택시 등)</td>\n",
       "    </tr>\n",
       "  </tbody>\n",
       "</table>\n",
       "<p>5375 rows × 6 columns</p>\n",
       "</div>"
      ],
      "text/plain": [
       "      index borough road_name    location                point  \\\n",
       "0         1     종로구       사직로   경복궁역 4번출구              지하철역 입구   \n",
       "1         2     종로구       사직로   경복궁역 4번출구              지하철역 입구   \n",
       "2         3     종로구      자하문로     자하문로 28              도로(가로)변   \n",
       "3         4     종로구      자하문로     자하문로 28              도로(가로)변   \n",
       "4         5     종로구      자하문로     자하문로 44              도로(가로)변   \n",
       "...     ...     ...       ...         ...                  ...   \n",
       "5370   5371     도봉구       해등로    해등로3길 41          삼환빌라 앞 횡단보도   \n",
       "5371   5372     도봉구       해등로    해등로 103         창원초등학교 앞 횡단보도   \n",
       "5372   5373     도봉구      도봉산길     도봉산길 27      도봉고등학교 건너편 횡단보도   \n",
       "5373   5374     도봉구       도봉로  도봉동 620-23  신도봉사거리 도봉중학교방향 횡단보도   \n",
       "5374   5375     도봉구       해등로      해등로 32    창1동 서울가든아파트 버스정류장   \n",
       "\n",
       "             category  \n",
       "0               일반쓰레기  \n",
       "1                 재활용  \n",
       "2               일반쓰레기  \n",
       "3                 재활용  \n",
       "4               일반쓰레기  \n",
       "...               ...  \n",
       "5370        ⑥ 횡단보도 입구  \n",
       "5371        ⑥ 횡단보도 입구  \n",
       "5372        ⑥ 횡단보도 입구  \n",
       "5373        ⑥ 횡단보도 입구  \n",
       "5374  ① 정류장(버스, 택시 등)  \n",
       "\n",
       "[5375 rows x 6 columns]"
      ]
     },
     "execution_count": 12,
     "metadata": {},
     "output_type": "execute_result"
    }
   ],
   "source": [
    "trash"
   ]
  },
  {
   "cell_type": "code",
   "execution_count": 13,
   "metadata": {},
   "outputs": [
    {
     "data": {
      "text/plain": [
       "['② 재활용쓰레기',\n",
       " '재활용쓰레기',\n",
       " '일반쓰레기',\n",
       " '⑥ 횡단보도 입구',\n",
       " '재활용 수거용',\n",
       " '일반쓰레기수거용',\n",
       " '일반쓰레기 수거용',\n",
       " ' 재활용쓰레기',\n",
       " '재활용수거용',\n",
       " '담배꽁초, 음료컵',\n",
       " '② 재활용품 수거용',\n",
       " '일반+담배꽁초',\n",
       " '기타',\n",
       " '재활용',\n",
       " '① 정류장(버스, 택시 등)',\n",
       " '광장, 공원 등 다중집합장소',\n",
       " '① 일반쓰레기',\n",
       " '재활용수거 ',\n",
       " '① 일반쓰레기 수거용',\n",
       " '② 지하철역 입구',\n",
       " '① 정류장(버스 등)',\n",
       " '일반+담배꽁초 ',\n",
       " '담배꽁초',\n",
       " '항아리형',\n",
       " ' 일반쓰레기']"
      ]
     },
     "execution_count": 13,
     "metadata": {},
     "output_type": "execute_result"
    }
   ],
   "source": [
    "trash.head()\n",
    "list(set(trash['category']))"
   ]
  },
  {
   "cell_type": "code",
   "execution_count": 14,
   "metadata": {},
   "outputs": [],
   "source": [
    "trash['category']=trash['category'].replace('② 재활용품 수거용','재활용쓰레기')\n",
    "trash['category']=trash['category'].replace('재활용수거 ','재활용쓰레기')\n",
    "trash['category']=trash['category'].replace(' 재활용쓰레기','재활용쓰레기')\n",
    "trash['category']=trash['category'].replace('재활용','재활용쓰레기')\n",
    "trash['category']=trash['category'].replace('② 재활용쓰레기','재활용쓰레기')\n",
    "trash['category']=trash['category'].replace('재활용 수거용','재활용쓰레기')\n",
    "trash['category']=trash['category'].replace('재활용수거용','재활용쓰레기')"
   ]
  },
  {
   "cell_type": "code",
   "execution_count": 15,
   "metadata": {},
   "outputs": [
    {
     "data": {
      "text/plain": [
       "['담배꽁초, 음료컵',\n",
       " '① 일반쓰레기 수거용',\n",
       " '재활용쓰레기',\n",
       " '광장, 공원 등 다중집합장소',\n",
       " '① 정류장(버스, 택시 등)',\n",
       " '일반쓰레기',\n",
       " '① 일반쓰레기',\n",
       " '항아리형',\n",
       " ' 일반쓰레기',\n",
       " '② 지하철역 입구',\n",
       " '일반+담배꽁초',\n",
       " '① 정류장(버스 등)',\n",
       " '⑥ 횡단보도 입구',\n",
       " '일반+담배꽁초 ',\n",
       " '일반쓰레기수거용',\n",
       " '담배꽁초',\n",
       " '기타',\n",
       " '일반쓰레기 수거용']"
      ]
     },
     "execution_count": 15,
     "metadata": {},
     "output_type": "execute_result"
    }
   ],
   "source": [
    "list(set(trash['category']))"
   ]
  },
  {
   "cell_type": "code",
   "execution_count": 16,
   "metadata": {},
   "outputs": [],
   "source": [
    "trash['category']=trash['category'].replace('① 정류장(버스 등)','일반쓰레기')\n",
    "trash['category']=trash['category'].replace('① 정류장(버스, 택시 등)','일반쓰레기')\n",
    "trash['category']=trash['category'].replace('② 지하철역 입구','재활용쓰레기')\n",
    "trash['category']=trash['category'].replace('⑥ 횡단보도 입구','재활용쓰레기')\n",
    "trash['category']=trash['category'].replace('광장, 공원 등 다중집합장소','재활용쓰레기')\n",
    "trash['category']=trash['category'].replace('기타','담배꽁초')\n"
   ]
  },
  {
   "cell_type": "code",
   "execution_count": 17,
   "metadata": {},
   "outputs": [
    {
     "data": {
      "text/plain": [
       "['담배꽁초, 음료컵',\n",
       " '① 일반쓰레기 수거용',\n",
       " '재활용쓰레기',\n",
       " '일반쓰레기',\n",
       " '① 일반쓰레기',\n",
       " ' 일반쓰레기',\n",
       " '일반+담배꽁초',\n",
       " '일반+담배꽁초 ',\n",
       " '일반쓰레기수거용',\n",
       " '담배꽁초',\n",
       " '항아리형',\n",
       " '일반쓰레기 수거용']"
      ]
     },
     "execution_count": 17,
     "metadata": {},
     "output_type": "execute_result"
    }
   ],
   "source": [
    "list(set(trash['category']))"
   ]
  },
  {
   "cell_type": "code",
   "execution_count": 18,
   "metadata": {},
   "outputs": [],
   "source": [
    "trash['category']=trash['category'].replace('① 일반쓰레기','일반쓰레기')\n",
    "trash['category']=trash['category'].replace('① 일반쓰레기 수거용','일반쓰레기')\n",
    "trash['category']=trash['category'].replace('일반쓰레기수거용','일반쓰레기')\n",
    "trash['category']=trash['category'].replace('일반쓰레기 수거용','일반쓰레기')\n",
    "trash['category']=trash['category'].replace(' 일반쓰레기','일반쓰레기')"
   ]
  },
  {
   "cell_type": "code",
   "execution_count": 19,
   "metadata": {},
   "outputs": [
    {
     "data": {
      "text/plain": [
       "['담배꽁초, 음료컵', '재활용쓰레기', '일반쓰레기', '일반+담배꽁초', '일반+담배꽁초 ', '담배꽁초', '항아리형']"
      ]
     },
     "execution_count": 19,
     "metadata": {},
     "output_type": "execute_result"
    }
   ],
   "source": [
    "list(set(trash['category']))"
   ]
  },
  {
   "cell_type": "code",
   "execution_count": 20,
   "metadata": {},
   "outputs": [
    {
     "data": {
      "text/plain": [
       "['재활용쓰레기', '일반쓰레기', '일반+담배꽁초', '담배꽁초', '항아리형']"
      ]
     },
     "execution_count": 20,
     "metadata": {},
     "output_type": "execute_result"
    }
   ],
   "source": [
    "trash['category']=trash['category'].replace('일반+담배꽁초 ','일반+담배꽁초')\n",
    "trash['category']=trash['category'].replace('담배꽁초, 음료컵','담배꽁초')\n",
    "list(set(trash['category']))"
   ]
  },
  {
   "cell_type": "code",
   "execution_count": 21,
   "metadata": {},
   "outputs": [
    {
     "data": {
      "text/plain": [
       "<pandas.core.groupby.generic.DataFrameGroupBy object at 0x0000018987D8FE50>"
      ]
     },
     "execution_count": 21,
     "metadata": {},
     "output_type": "execute_result"
    }
   ],
   "source": [
    "\n",
    "trash.groupby(['borough','category'])"
   ]
  },
  {
   "cell_type": "code",
   "execution_count": 22,
   "metadata": {},
   "outputs": [],
   "source": [
    "trash.borough.replace(\"강서\", \"강서구\", inplace=True)"
   ]
  },
  {
   "cell_type": "code",
   "execution_count": 23,
   "metadata": {},
   "outputs": [
    {
     "data": {
      "text/plain": [
       "['강동구',\n",
       " '은평구',\n",
       " '강남구',\n",
       " '금천구',\n",
       " '영등포구',\n",
       " '관악구',\n",
       " '서초구',\n",
       " '종로구',\n",
       " '중구',\n",
       " '강북구',\n",
       " '성동구',\n",
       " '마포구',\n",
       " '동대문구',\n",
       " '송파구',\n",
       " '양천구',\n",
       " '성북구',\n",
       " '강서구',\n",
       " '서대문구',\n",
       " '도봉구',\n",
       " '용산구',\n",
       " '노원구',\n",
       " '동작구',\n",
       " '광진구',\n",
       " '구로구',\n",
       " '중랑구']"
      ]
     },
     "execution_count": 23,
     "metadata": {},
     "output_type": "execute_result"
    }
   ],
   "source": [
    "list(set(trash['borough']))"
   ]
  },
  {
   "cell_type": "code",
   "execution_count": 28,
   "metadata": {},
   "outputs": [],
   "source": [
    "trash.to_excel('new_trash.xlsx')\n",
    "trash.to_json('new_trash.json', orient='table', force_ascii=False)"
   ]
  },
  {
   "cell_type": "code",
   "execution_count": 25,
   "metadata": {},
   "outputs": [],
   "source": [
    "trash['count']=1\n",
    "trash_count=trash.groupby(['borough','category']).count()[['count']]"
   ]
  },
  {
   "cell_type": "code",
   "execution_count": 26,
   "metadata": {},
   "outputs": [],
   "source": [
    "trash_count.to_excel('trash_count.xlsx')"
   ]
  },
  {
   "cell_type": "code",
   "execution_count": 29,
   "metadata": {},
   "outputs": [],
   "source": [
    "\n",
    "trash_count.to_json('trash_count.json', orient='table', force_ascii=False)"
   ]
  }
 ],
 "metadata": {
  "kernelspec": {
   "display_name": "Python 3.10.6 64-bit",
   "language": "python",
   "name": "python3"
  },
  "language_info": {
   "codemirror_mode": {
    "name": "ipython",
    "version": 3
   },
   "file_extension": ".py",
   "mimetype": "text/x-python",
   "name": "python",
   "nbconvert_exporter": "python",
   "pygments_lexer": "ipython3",
   "version": "3.10.6"
  },
  "orig_nbformat": 4,
  "vscode": {
   "interpreter": {
    "hash": "369f2c481f4da34e4445cda3fffd2e751bd1c4d706f27375911949ba6bb62e1c"
   }
  }
 },
 "nbformat": 4,
 "nbformat_minor": 2
}
