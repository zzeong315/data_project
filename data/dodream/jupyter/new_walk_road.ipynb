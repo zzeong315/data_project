{
 "cells": [
  {
   "cell_type": "code",
   "execution_count": 1,
   "metadata": {},
   "outputs": [],
   "source": [
    "import numpy as np\n",
    "import pandas as pd\n",
    "import json"
   ]
  },
  {
   "cell_type": "code",
   "execution_count": 2,
   "metadata": {},
   "outputs": [],
   "source": [
    "dodream=pd.read_csv(\"../dodream.csv\",encoding=\"euc-kr\")"
   ]
  },
  {
   "cell_type": "code",
   "execution_count": 3,
   "metadata": {},
   "outputs": [
    {
     "name": "stdout",
     "output_type": "stream",
     "text": [
      "(1454, 21)\n"
     ]
    }
   ],
   "source": [
    "print(dodream.shape)"
   ]
  },
  {
   "cell_type": "code",
   "execution_count": 4,
   "metadata": {},
   "outputs": [
    {
     "name": "stdout",
     "output_type": "stream",
     "text": [
      "<class 'pandas.core.frame.DataFrame'>\n",
      "RangeIndex: 1454 entries, 0 to 1453\n",
      "Data columns (total 21 columns):\n",
      " #   Column    Non-Null Count  Dtype  \n",
      "---  ------    --------------  -----  \n",
      " 0   코스 카테고리   1454 non-null   int64  \n",
      " 1   코스 카테고리명  1454 non-null   object \n",
      " 2   강북강남구분코드  1454 non-null   int64  \n",
      " 3   강북강남구분    1454 non-null   object \n",
      " 4   자치구       1443 non-null   object \n",
      " 5   거리        1454 non-null   object \n",
      " 6   소요시간      1454 non-null   object \n",
      " 7   코스레벨      1454 non-null   int64  \n",
      " 8   추천수       1454 non-null   int64  \n",
      " 9   연계지하철     1382 non-null   object \n",
      " 10  교통편       1454 non-null   object \n",
      " 11  설명        1454 non-null   object \n",
      " 12  PDF파일경로   1454 non-null   object \n",
      " 13  코스명       1454 non-null   object \n",
      " 14  작성시간      1454 non-null   object \n",
      " 15  세부코스      1446 non-null   object \n",
      " 16  포인트순번     1454 non-null   int64  \n",
      " 17  포인트명칭     1454 non-null   object \n",
      " 18  X 좌표      1454 non-null   float64\n",
      " 19  Y 좌표      1454 non-null   float64\n",
      " 20  포인트 설명    1454 non-null   object \n",
      "dtypes: float64(2), int64(5), object(14)\n",
      "memory usage: 238.7+ KB\n"
     ]
    }
   ],
   "source": [
    "dodream.info()"
   ]
  },
  {
   "cell_type": "code",
   "execution_count": 5,
   "metadata": {},
   "outputs": [],
   "source": [
    "new_dodream=dodream.loc[:,[\"코스 카테고리\",\"코스 카테고리명\",\"자치구\",\"거리\",\"소요시간\",\"코스레벨\",\"연계지하철\",\"교통편\",\"설명\",\"코스명\",\"작성시간\",\"포인트명칭\",\"세부코스\",\"X 좌표\",\"Y 좌표\"]]\n"
   ]
  },
  {
   "cell_type": "code",
   "execution_count": 6,
   "metadata": {},
   "outputs": [
    {
     "name": "stdout",
     "output_type": "stream",
     "text": [
      "<class 'pandas.core.frame.DataFrame'>\n",
      "RangeIndex: 1454 entries, 0 to 1453\n",
      "Data columns (total 15 columns):\n",
      " #   Column    Non-Null Count  Dtype  \n",
      "---  ------    --------------  -----  \n",
      " 0   코스 카테고리   1454 non-null   int64  \n",
      " 1   코스 카테고리명  1454 non-null   object \n",
      " 2   자치구       1443 non-null   object \n",
      " 3   거리        1454 non-null   object \n",
      " 4   소요시간      1454 non-null   object \n",
      " 5   코스레벨      1454 non-null   int64  \n",
      " 6   연계지하철     1382 non-null   object \n",
      " 7   교통편       1454 non-null   object \n",
      " 8   설명        1454 non-null   object \n",
      " 9   코스명       1454 non-null   object \n",
      " 10  작성시간      1454 non-null   object \n",
      " 11  포인트명칭     1454 non-null   object \n",
      " 12  세부코스      1446 non-null   object \n",
      " 13  X 좌표      1454 non-null   float64\n",
      " 14  Y 좌표      1454 non-null   float64\n",
      "dtypes: float64(2), int64(2), object(11)\n",
      "memory usage: 170.5+ KB\n"
     ]
    }
   ],
   "source": [
    "new_dodream.info()"
   ]
  },
  {
   "cell_type": "code",
   "execution_count": 7,
   "metadata": {},
   "outputs": [
    {
     "data": {
      "text/plain": [
       "코스 카테고리      0\n",
       "코스 카테고리명     0\n",
       "자치구         11\n",
       "거리           0\n",
       "소요시간         0\n",
       "코스레벨         0\n",
       "연계지하철       72\n",
       "교통편          0\n",
       "설명           0\n",
       "코스명          0\n",
       "작성시간         0\n",
       "포인트명칭        0\n",
       "세부코스         8\n",
       "X 좌표         0\n",
       "Y 좌표         0\n",
       "dtype: int64"
      ]
     },
     "execution_count": 7,
     "metadata": {},
     "output_type": "execute_result"
    }
   ],
   "source": [
    "new_dodream.isnull().sum()"
   ]
  },
  {
   "cell_type": "code",
   "execution_count": null,
   "metadata": {},
   "outputs": [],
   "source": [
    "new_dodream[new_dodream[\"자치구\"].isnull()]"
   ]
  },
  {
   "cell_type": "code",
   "execution_count": 56,
   "metadata": {},
   "outputs": [
    {
     "data": {
      "text/html": [
       "<div>\n",
       "<style scoped>\n",
       "    .dataframe tbody tr th:only-of-type {\n",
       "        vertical-align: middle;\n",
       "    }\n",
       "\n",
       "    .dataframe tbody tr th {\n",
       "        vertical-align: top;\n",
       "    }\n",
       "\n",
       "    .dataframe thead th {\n",
       "        text-align: right;\n",
       "    }\n",
       "</style>\n",
       "<table border=\"1\" class=\"dataframe\">\n",
       "  <thead>\n",
       "    <tr style=\"text-align: right;\">\n",
       "      <th></th>\n",
       "      <th>코스 카테고리</th>\n",
       "      <th>코스 카테고리명</th>\n",
       "      <th>자치구</th>\n",
       "      <th>거리</th>\n",
       "      <th>소요시간</th>\n",
       "      <th>코스레벨</th>\n",
       "      <th>연계지하철</th>\n",
       "      <th>교통편</th>\n",
       "      <th>설명</th>\n",
       "      <th>코스명</th>\n",
       "      <th>작성시간</th>\n",
       "      <th>포인트명칭</th>\n",
       "      <th>세부코스</th>\n",
       "      <th>X 좌표</th>\n",
       "      <th>Y 좌표</th>\n",
       "    </tr>\n",
       "  </thead>\n",
       "  <tbody>\n",
       "    <tr>\n",
       "      <th>0</th>\n",
       "      <td>3000</td>\n",
       "      <td>근교산자락길</td>\n",
       "      <td>관악구</td>\n",
       "      <td>1.3km</td>\n",
       "      <td>30분</td>\n",
       "      <td>1</td>\n",
       "      <td>2호선</td>\n",
       "      <td>진입로 : 서울대학교 버스 정류장(21-127) 간선(파랑) 501 506 지선(초...</td>\n",
       "      <td>관악구 관악산 내에 위치한 자락길로 전체구간이 완만하여 누구나 이용가능한 노선으로 ...</td>\n",
       "      <td>관악산 자락길(무장애숲길)</td>\n",
       "      <td>2014-06-17 20:21:52.0</td>\n",
       "      <td>서울대학교 버스정류장</td>\n",
       "      <td>제2광장 자락길(무장애숲길)입구~책읽는 쉼터~잣나무 쉼터~바위쉼터~전망 쉼터~도토...</td>\n",
       "      <td>195385.483302</td>\n",
       "      <td>440835.702858</td>\n",
       "    </tr>\n",
       "    <tr>\n",
       "      <th>9</th>\n",
       "      <td>4000</td>\n",
       "      <td>한양도성길</td>\n",
       "      <td>종로구중구</td>\n",
       "      <td>1.8km</td>\n",
       "      <td>1시간</td>\n",
       "      <td>1</td>\n",
       "      <td>1호선2호선3호선4호선5호선</td>\n",
       "      <td>출발지 : 동대문역(1ㆍ4호선) 6번 7번 출구 → 흥인지문&lt;br /&gt; 진입로 : ...</td>\n",
       "      <td>흥인지문에서 광희문을 지나 장충체육관까지 이어지는 구간이다. 흥인지문 일대는 도성...</td>\n",
       "      <td>흥인지문구간</td>\n",
       "      <td>2014-06-09 15:35:46.0</td>\n",
       "      <td>장충체육관</td>\n",
       "      <td>흥인지문-동대문역사문화공원(옛 동대문운동장 터)-광희문-장충체육관</td>\n",
       "      <td>200619.506208</td>\n",
       "      <td>450955.627553</td>\n",
       "    </tr>\n",
       "    <tr>\n",
       "      <th>104</th>\n",
       "      <td>5000</td>\n",
       "      <td>한강지천길/계절길</td>\n",
       "      <td>용산구중구</td>\n",
       "      <td>8.45Km</td>\n",
       "      <td>3시간</td>\n",
       "      <td>1</td>\n",
       "      <td>5호선중앙선</td>\n",
       "      <td>진입로 1 : 마포역 지하철 5호선 4번 출구&lt;br /&gt; 진입로 2 : 서빙고역 지...</td>\n",
       "      <td>한강시민공원 이촌지구를 따라 걷는 한강 수변 길로 넓게 펼쳐진 한강과 아름다운 공원...</td>\n",
       "      <td>용산한강길</td>\n",
       "      <td>2013-09-27 18:00:49.0</td>\n",
       "      <td>서빙고역 반포대교 인근</td>\n",
       "      <td>마포대교 원효대교 인근~한강시민공원 이촌지구 인근~동작대교 인근~서빙고역 반포대교 ...</td>\n",
       "      <td>199225.960915</td>\n",
       "      <td>446407.993383</td>\n",
       "    </tr>\n",
       "    <tr>\n",
       "      <th>127</th>\n",
       "      <td>1000</td>\n",
       "      <td>생태문화길</td>\n",
       "      <td>용산구중구</td>\n",
       "      <td>1.63km</td>\n",
       "      <td>40분</td>\n",
       "      <td>1</td>\n",
       "      <td>4호선6호선</td>\n",
       "      <td>진입로 1 : 삼각지역 지하철 4 6호선 3번 출구(또는 삼각지역 12번 출구에서 ...</td>\n",
       "      <td>호국 자료의 수집?보존?전시 전쟁의 교훈과 호국정신 배양 선열들의 호국 위훈 추모...</td>\n",
       "      <td>전쟁기념관 산책길</td>\n",
       "      <td>2013-09-27 17:49:19.0</td>\n",
       "      <td>전사자영비</td>\n",
       "      <td>옥외전시장~전사자영비</td>\n",
       "      <td>198062.462800</td>\n",
       "      <td>448509.313700</td>\n",
       "    </tr>\n",
       "    <tr>\n",
       "      <th>1338</th>\n",
       "      <td>2000</td>\n",
       "      <td>서울둘레길</td>\n",
       "      <td>강북구도봉구성북구은평구종로구</td>\n",
       "      <td>34.5km</td>\n",
       "      <td>17시간</td>\n",
       "      <td>2</td>\n",
       "      <td>1호선3호선7호선</td>\n",
       "      <td>출발지 : 지하철 3호선 구파발역 3번 출입구 북한산 인접지 &lt;br /&gt;      ...</td>\n",
       "      <td>8코스는 북한산 둘레길을 이용해 통과하는 노선으로 이미 개통이 된 곳으로 이용하여 ...</td>\n",
       "      <td>8코스-북한산코스</td>\n",
       "      <td>2013-09-03 14:17:05.0</td>\n",
       "      <td>도봉탐방지원센터 옆</td>\n",
       "      <td>은평뉴타운~선림사~북한산생태공원~탕춘대성암문~불심원~연화정사~성북생태체험관~빨래골...</td>\n",
       "      <td>203207.451398</td>\n",
       "      <td>465155.772600</td>\n",
       "    </tr>\n",
       "  </tbody>\n",
       "</table>\n",
       "</div>"
      ],
      "text/plain": [
       "      코스 카테고리   코스 카테고리명              자치구      거리  소요시간  코스레벨  \\\n",
       "0        3000     근교산자락길              관악구   1.3km   30분     1   \n",
       "9        4000      한양도성길            종로구중구   1.8km   1시간     1   \n",
       "104      5000  한강지천길/계절길            용산구중구  8.45Km   3시간     1   \n",
       "127      1000      생태문화길            용산구중구  1.63km   40분     1   \n",
       "1338     2000      서울둘레길  강북구도봉구성북구은평구종로구  34.5km  17시간     2   \n",
       "\n",
       "                연계지하철                                                교통편  \\\n",
       "0                 2호선  진입로 : 서울대학교 버스 정류장(21-127) 간선(파랑) 501 506 지선(초...   \n",
       "9     1호선2호선3호선4호선5호선  출발지 : 동대문역(1ㆍ4호선) 6번 7번 출구 → 흥인지문<br /> 진입로 : ...   \n",
       "104            5호선중앙선  진입로 1 : 마포역 지하철 5호선 4번 출구<br /> 진입로 2 : 서빙고역 지...   \n",
       "127            4호선6호선  진입로 1 : 삼각지역 지하철 4 6호선 3번 출구(또는 삼각지역 12번 출구에서 ...   \n",
       "1338        1호선3호선7호선  출발지 : 지하철 3호선 구파발역 3번 출입구 북한산 인접지 <br />      ...   \n",
       "\n",
       "                                                     설명             코스명  \\\n",
       "0     관악구 관악산 내에 위치한 자락길로 전체구간이 완만하여 누구나 이용가능한 노선으로 ...  관악산 자락길(무장애숲길)   \n",
       "9      흥인지문에서 광희문을 지나 장충체육관까지 이어지는 구간이다. 흥인지문 일대는 도성...          흥인지문구간   \n",
       "104   한강시민공원 이촌지구를 따라 걷는 한강 수변 길로 넓게 펼쳐진 한강과 아름다운 공원...           용산한강길   \n",
       "127    호국 자료의 수집?보존?전시 전쟁의 교훈과 호국정신 배양 선열들의 호국 위훈 추모...       전쟁기념관 산책길   \n",
       "1338  8코스는 북한산 둘레길을 이용해 통과하는 노선으로 이미 개통이 된 곳으로 이용하여 ...       8코스-북한산코스   \n",
       "\n",
       "                       작성시간         포인트명칭  \\\n",
       "0     2014-06-17 20:21:52.0   서울대학교 버스정류장   \n",
       "9     2014-06-09 15:35:46.0         장충체육관   \n",
       "104   2013-09-27 18:00:49.0  서빙고역 반포대교 인근   \n",
       "127   2013-09-27 17:49:19.0         전사자영비   \n",
       "1338  2013-09-03 14:17:05.0    도봉탐방지원센터 옆   \n",
       "\n",
       "                                                   세부코스           X 좌표  \\\n",
       "0      제2광장 자락길(무장애숲길)입구~책읽는 쉼터~잣나무 쉼터~바위쉼터~전망 쉼터~도토...  195385.483302   \n",
       "9                  흥인지문-동대문역사문화공원(옛 동대문운동장 터)-광희문-장충체육관  200619.506208   \n",
       "104   마포대교 원효대교 인근~한강시민공원 이촌지구 인근~동작대교 인근~서빙고역 반포대교 ...  199225.960915   \n",
       "127                                         옥외전시장~전사자영비  198062.462800   \n",
       "1338   은평뉴타운~선림사~북한산생태공원~탕춘대성암문~불심원~연화정사~성북생태체험관~빨래골...  203207.451398   \n",
       "\n",
       "               Y 좌표  \n",
       "0     440835.702858  \n",
       "9     450955.627553  \n",
       "104   446407.993383  \n",
       "127   448509.313700  \n",
       "1338  465155.772600  "
      ]
     },
     "execution_count": 56,
     "metadata": {},
     "output_type": "execute_result"
    }
   ],
   "source": [
    "category=new_dodream.groupby(\"코스 카테고리명\")\n",
    "category.head(1)"
   ]
  },
  {
   "cell_type": "code",
   "execution_count": 54,
   "metadata": {},
   "outputs": [
    {
     "ename": "AttributeError",
     "evalue": "'DataFrameGroupBy' object has no attribute 'groupby'",
     "output_type": "error",
     "traceback": [
      "\u001b[1;31m---------------------------------------------------------------------------\u001b[0m",
      "\u001b[1;31mAttributeError\u001b[0m                            Traceback (most recent call last)",
      "Cell \u001b[1;32mIn [54], line 1\u001b[0m\n\u001b[1;32m----> 1\u001b[0m course\u001b[39m=\u001b[39mcategory\u001b[39m.\u001b[39mgroupby(\u001b[39m\"\u001b[39m\u001b[39m코스명\u001b[39m\u001b[39m\"\u001b[39m)\n",
      "File \u001b[1;32m~\\AppData\\Local\\Programs\\Python\\Python310\\lib\\site-packages\\pandas\\core\\groupby\\groupby.py:981\u001b[0m, in \u001b[0;36mGroupBy.__getattr__\u001b[1;34m(self, attr)\u001b[0m\n\u001b[0;32m    978\u001b[0m \u001b[39mif\u001b[39;00m attr \u001b[39min\u001b[39;00m \u001b[39mself\u001b[39m\u001b[39m.\u001b[39mobj:\n\u001b[0;32m    979\u001b[0m     \u001b[39mreturn\u001b[39;00m \u001b[39mself\u001b[39m[attr]\n\u001b[1;32m--> 981\u001b[0m \u001b[39mraise\u001b[39;00m \u001b[39mAttributeError\u001b[39;00m(\n\u001b[0;32m    982\u001b[0m     \u001b[39mf\u001b[39m\u001b[39m\"\u001b[39m\u001b[39m'\u001b[39m\u001b[39m{\u001b[39;00m\u001b[39mtype\u001b[39m(\u001b[39mself\u001b[39m)\u001b[39m.\u001b[39m\u001b[39m__name__\u001b[39m\u001b[39m}\u001b[39;00m\u001b[39m'\u001b[39m\u001b[39m object has no attribute \u001b[39m\u001b[39m'\u001b[39m\u001b[39m{\u001b[39;00mattr\u001b[39m}\u001b[39;00m\u001b[39m'\u001b[39m\u001b[39m\"\u001b[39m\n\u001b[0;32m    983\u001b[0m )\n",
      "\u001b[1;31mAttributeError\u001b[0m: 'DataFrameGroupBy' object has no attribute 'groupby'"
     ]
    }
   ],
   "source": [
    "course=category.groupby(\"코스명\")"
   ]
  },
  {
   "cell_type": "code",
   "execution_count": 18,
   "metadata": {},
   "outputs": [
    {
     "data": {
      "text/html": [
       "<div>\n",
       "<style scoped>\n",
       "    .dataframe tbody tr th:only-of-type {\n",
       "        vertical-align: middle;\n",
       "    }\n",
       "\n",
       "    .dataframe tbody tr th {\n",
       "        vertical-align: top;\n",
       "    }\n",
       "\n",
       "    .dataframe thead th {\n",
       "        text-align: right;\n",
       "    }\n",
       "</style>\n",
       "<table border=\"1\" class=\"dataframe\">\n",
       "  <thead>\n",
       "    <tr style=\"text-align: right;\">\n",
       "      <th></th>\n",
       "      <th>코스명</th>\n",
       "      <th>개수</th>\n",
       "    </tr>\n",
       "  </thead>\n",
       "  <tbody>\n",
       "    <tr>\n",
       "      <th>0</th>\n",
       "      <td>1코스-수락?불암산코스</td>\n",
       "      <td>16</td>\n",
       "    </tr>\n",
       "    <tr>\n",
       "      <th>1</th>\n",
       "      <td>2코스-용마?아차산코스</td>\n",
       "      <td>12</td>\n",
       "    </tr>\n",
       "    <tr>\n",
       "      <th>2</th>\n",
       "      <td>3코스-고덕?일자산코스</td>\n",
       "      <td>17</td>\n",
       "    </tr>\n",
       "    <tr>\n",
       "      <th>3</th>\n",
       "      <td>4코스-대모?우면산코스</td>\n",
       "      <td>14</td>\n",
       "    </tr>\n",
       "    <tr>\n",
       "      <th>4</th>\n",
       "      <td>5코스-관악산코스</td>\n",
       "      <td>12</td>\n",
       "    </tr>\n",
       "    <tr>\n",
       "      <th>...</th>\n",
       "      <td>...</td>\n",
       "      <td>...</td>\n",
       "    </tr>\n",
       "    <tr>\n",
       "      <th>138</th>\n",
       "      <td>호암산 나들길</td>\n",
       "      <td>11</td>\n",
       "    </tr>\n",
       "    <tr>\n",
       "      <th>139</th>\n",
       "      <td>홍대예술의거리 나들길</td>\n",
       "      <td>14</td>\n",
       "    </tr>\n",
       "    <tr>\n",
       "      <th>140</th>\n",
       "      <td>홍릉수목원길</td>\n",
       "      <td>3</td>\n",
       "    </tr>\n",
       "    <tr>\n",
       "      <th>141</th>\n",
       "      <td>홍제천길</td>\n",
       "      <td>14</td>\n",
       "    </tr>\n",
       "    <tr>\n",
       "      <th>142</th>\n",
       "      <td>흥인지문구간</td>\n",
       "      <td>6</td>\n",
       "    </tr>\n",
       "  </tbody>\n",
       "</table>\n",
       "<p>143 rows × 2 columns</p>\n",
       "</div>"
      ],
      "text/plain": [
       "              코스명  개수\n",
       "0    1코스-수락?불암산코스  16\n",
       "1    2코스-용마?아차산코스  12\n",
       "2    3코스-고덕?일자산코스  17\n",
       "3    4코스-대모?우면산코스  14\n",
       "4       5코스-관악산코스  12\n",
       "..            ...  ..\n",
       "138       호암산 나들길  11\n",
       "139   홍대예술의거리 나들길  14\n",
       "140        홍릉수목원길   3\n",
       "141          홍제천길  14\n",
       "142        흥인지문구간   6\n",
       "\n",
       "[143 rows x 2 columns]"
      ]
     },
     "execution_count": 18,
     "metadata": {},
     "output_type": "execute_result"
    }
   ],
   "source": [
    "course=new_dodream.groupby(\"코스명\").size().reset_index(name=\"개수\")\n",
    "course"
   ]
  }
 ],
 "metadata": {
  "kernelspec": {
   "display_name": "Python 3.10.6 64-bit",
   "language": "python",
   "name": "python3"
  },
  "language_info": {
   "codemirror_mode": {
    "name": "ipython",
    "version": 3
   },
   "file_extension": ".py",
   "mimetype": "text/x-python",
   "name": "python",
   "nbconvert_exporter": "python",
   "pygments_lexer": "ipython3",
   "version": "3.10.6"
  },
  "orig_nbformat": 4,
  "vscode": {
   "interpreter": {
    "hash": "369f2c481f4da34e4445cda3fffd2e751bd1c4d706f27375911949ba6bb62e1c"
   }
  }
 },
 "nbformat": 4,
 "nbformat_minor": 2
}
